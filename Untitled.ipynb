{
 "cells": [
  {
   "cell_type": "code",
   "execution_count": 4,
   "metadata": {},
   "outputs": [
    {
     "name": "stderr",
     "output_type": "stream",
     "text": [
      "Exception ignored in: <bound method CCS.__del__ of <instrumental.drivers.spectrometers.thorlabs_ccs.CCS object at 0x000001BA4B124DA0>>\n",
      "Traceback (most recent call last):\n",
      "  File \"c:\\users\\juanr\\anaconda3\\envs\\stage\\lib\\site-packages\\instrumental_lib-0.6.dev0-py3.6.egg\\instrumental\\drivers\\spectrometers\\thorlabs_ccs.py\", line 171, in __del__\n",
      "    self.close()\n",
      "  File \"c:\\users\\juanr\\anaconda3\\envs\\stage\\lib\\site-packages\\instrumental_lib-0.6.dev0-py3.6.egg\\instrumental\\drivers\\spectrometers\\thorlabs_ccs.py\", line 190, in close\n",
      "    self._NiceCCS.close()\n",
      "AttributeError: 'CCS' object has no attribute '_NiceCCS'\n"
     ]
    }
   ],
   "source": [
    "import logging,threading,time\n",
    "from instrumental import Q_\n",
    "from logging.handlers import SocketHandler\n",
    "from XZStageAndSpec import System\n",
    "log = logging.getLogger('Root logger')\n",
    "log.setLevel(1)  # to send all messages to cutelog\n",
    "socket_handler = SocketHandler('127.0.0.1', 19996)  # default listening address\n",
    "log.addHandler(socket_handler)\n",
    "import numpy as np\n",
    "import time, threading\n",
    "initial_time=time.time()\n",
    "syst = System()\n",
    "syst.connect()"
   ]
  },
  {
   "cell_type": "code",
   "execution_count": 5,
   "metadata": {},
   "outputs": [
    {
     "ename": "ThorlabsCCSError",
     "evalue": "b'The given session or object reference is invalid.'",
     "output_type": "error",
     "traceback": [
      "\u001b[1;31m---------------------------------------------------------------------------\u001b[0m",
      "\u001b[1;31mThorlabsCCSError\u001b[0m                          Traceback (most recent call last)",
      "\u001b[1;32m<ipython-input-5-141083e59c44>\u001b[0m in \u001b[0;36m<module>\u001b[1;34m\u001b[0m\n\u001b[0;32m     13\u001b[0m \u001b[0mstorage_total_time\u001b[0m \u001b[1;33m=\u001b[0m \u001b[0mtime\u001b[0m\u001b[1;33m.\u001b[0m\u001b[0mtime\u001b[0m\u001b[1;33m(\u001b[0m\u001b[1;33m)\u001b[0m \u001b[1;33m-\u001b[0m \u001b[0minitial_time\u001b[0m\u001b[1;33m\u001b[0m\u001b[0m\n\u001b[0;32m     14\u001b[0m \u001b[0mlog\u001b[0m\u001b[1;33m.\u001b[0m\u001b[0minfo\u001b[0m\u001b[1;33m(\u001b[0m\u001b[1;34m'STORAGE Thread done, it took: {}.'\u001b[0m\u001b[1;33m.\u001b[0m\u001b[0mformat\u001b[0m\u001b[1;33m(\u001b[0m\u001b[0mstorage_total_time\u001b[0m\u001b[1;33m)\u001b[0m\u001b[1;33m)\u001b[0m\u001b[1;33m\u001b[0m\u001b[0m\n\u001b[1;32m---> 15\u001b[1;33m \u001b[0msyst\u001b[0m\u001b[1;33m.\u001b[0m\u001b[0mdisconnect\u001b[0m\u001b[1;33m(\u001b[0m\u001b[1;33m)\u001b[0m\u001b[1;33m\u001b[0m\u001b[0m\n\u001b[0m\u001b[0;32m     16\u001b[0m \u001b[0melapsed_time\u001b[0m \u001b[1;33m=\u001b[0m \u001b[0mtime\u001b[0m\u001b[1;33m.\u001b[0m\u001b[0mtime\u001b[0m\u001b[1;33m(\u001b[0m\u001b[1;33m)\u001b[0m \u001b[1;33m-\u001b[0m \u001b[0minitial_time\u001b[0m\u001b[1;33m\u001b[0m\u001b[0m\n\u001b[0;32m     17\u001b[0m \u001b[0mlog\u001b[0m\u001b[1;33m.\u001b[0m\u001b[0minfo\u001b[0m\u001b[1;33m(\u001b[0m\u001b[1;34m'TOTAL TIME: {}'\u001b[0m\u001b[1;33m.\u001b[0m\u001b[0mformat\u001b[0m\u001b[1;33m(\u001b[0m\u001b[0melapsed_time\u001b[0m\u001b[1;33m)\u001b[0m\u001b[1;33m)\u001b[0m\u001b[1;33m\u001b[0m\u001b[0m\n",
      "\u001b[1;32m~\\Documents\\XZStage\\open_frame_XZStage\\XZStageAndSpec.py\u001b[0m in \u001b[0;36mdisconnect\u001b[1;34m(self)\u001b[0m\n\u001b[0;32m     26\u001b[0m \u001b[1;33m\u001b[0m\u001b[0m\n\u001b[0;32m     27\u001b[0m     \u001b[1;32mdef\u001b[0m \u001b[0mdisconnect\u001b[0m\u001b[1;33m(\u001b[0m\u001b[0mself\u001b[0m\u001b[1;33m)\u001b[0m\u001b[1;33m:\u001b[0m\u001b[1;33m\u001b[0m\u001b[0m\n\u001b[1;32m---> 28\u001b[1;33m         \u001b[0mself\u001b[0m\u001b[1;33m.\u001b[0m\u001b[0mccs\u001b[0m\u001b[1;33m.\u001b[0m\u001b[0mclose\u001b[0m\u001b[1;33m(\u001b[0m\u001b[1;33m)\u001b[0m\u001b[1;33m\u001b[0m\u001b[0m\n\u001b[0m\u001b[0;32m     29\u001b[0m         \u001b[0mlog\u001b[0m\u001b[1;33m.\u001b[0m\u001b[0minfo\u001b[0m\u001b[1;33m(\u001b[0m\u001b[1;34m'CCS200/M Spectrometer DISCONNECTED'\u001b[0m\u001b[1;33m)\u001b[0m\u001b[1;33m\u001b[0m\u001b[0m\n\u001b[0;32m     30\u001b[0m         \u001b[0mself\u001b[0m\u001b[1;33m.\u001b[0m\u001b[0mstage\u001b[0m\u001b[1;33m.\u001b[0m\u001b[0mturn_off\u001b[0m\u001b[1;33m(\u001b[0m\u001b[1;33m)\u001b[0m\u001b[1;33m\u001b[0m\u001b[0m\n",
      "\u001b[1;32mc:\\users\\juanr\\anaconda3\\envs\\stage\\lib\\site-packages\\instrumental_lib-0.6.dev0-py3.6.egg\\instrumental\\drivers\\spectrometers\\thorlabs_ccs.py\u001b[0m in \u001b[0;36mclose\u001b[1;34m(self)\u001b[0m\n\u001b[0;32m    188\u001b[0m     \u001b[1;32mdef\u001b[0m \u001b[0mclose\u001b[0m\u001b[1;33m(\u001b[0m\u001b[0mself\u001b[0m\u001b[1;33m)\u001b[0m\u001b[1;33m:\u001b[0m\u001b[1;33m\u001b[0m\u001b[0m\n\u001b[0;32m    189\u001b[0m         \u001b[1;34m\"\"\"Close the spectrometer\"\"\"\u001b[0m\u001b[1;33m\u001b[0m\u001b[0m\n\u001b[1;32m--> 190\u001b[1;33m         \u001b[0mself\u001b[0m\u001b[1;33m.\u001b[0m\u001b[0m_NiceCCS\u001b[0m\u001b[1;33m.\u001b[0m\u001b[0mclose\u001b[0m\u001b[1;33m(\u001b[0m\u001b[1;33m)\u001b[0m\u001b[1;33m\u001b[0m\u001b[0m\n\u001b[0m\u001b[0;32m    191\u001b[0m \u001b[1;33m\u001b[0m\u001b[0m\n\u001b[0;32m    192\u001b[0m     \u001b[1;32mdef\u001b[0m \u001b[0mget_integration_time\u001b[0m\u001b[1;33m(\u001b[0m\u001b[0mself\u001b[0m\u001b[1;33m)\u001b[0m\u001b[1;33m:\u001b[0m\u001b[1;33m\u001b[0m\u001b[0m\n",
      "\u001b[1;32mc:\\users\\juanr\\anaconda3\\envs\\stage\\lib\\site-packages\\nicelib\\nicelib.py\u001b[0m in \u001b[0;36m__call__\u001b[1;34m(self, *args)\u001b[0m\n\u001b[0;32m    691\u001b[0m \u001b[1;33m\u001b[0m\u001b[0m\n\u001b[0;32m    692\u001b[0m     \u001b[1;32mdef\u001b[0m \u001b[0m__call__\u001b[0m\u001b[1;33m(\u001b[0m\u001b[0mself\u001b[0m\u001b[1;33m,\u001b[0m \u001b[1;33m*\u001b[0m\u001b[0margs\u001b[0m\u001b[1;33m)\u001b[0m\u001b[1;33m:\u001b[0m\u001b[1;33m\u001b[0m\u001b[0m\n\u001b[1;32m--> 693\u001b[1;33m         \u001b[1;32mreturn\u001b[0m \u001b[0mself\u001b[0m\u001b[1;33m.\u001b[0m\u001b[0m_libfunc\u001b[0m\u001b[1;33m(\u001b[0m\u001b[1;33m*\u001b[0m\u001b[1;33m(\u001b[0m\u001b[0mself\u001b[0m\u001b[1;33m.\u001b[0m\u001b[0m_niceobj\u001b[0m\u001b[1;33m.\u001b[0m\u001b[0m_handles\u001b[0m \u001b[1;33m+\u001b[0m \u001b[0margs\u001b[0m\u001b[1;33m)\u001b[0m\u001b[1;33m,\u001b[0m \u001b[0mniceobj\u001b[0m\u001b[1;33m=\u001b[0m\u001b[0mself\u001b[0m\u001b[1;33m.\u001b[0m\u001b[0m_niceobj\u001b[0m\u001b[1;33m)\u001b[0m\u001b[1;33m\u001b[0m\u001b[0m\n\u001b[0m\u001b[0;32m    694\u001b[0m \u001b[1;33m\u001b[0m\u001b[0m\n\u001b[0;32m    695\u001b[0m \u001b[1;33m\u001b[0m\u001b[0m\n",
      "\u001b[1;32mc:\\users\\juanr\\anaconda3\\envs\\stage\\lib\\site-packages\\nicelib\\nicelib.py\u001b[0m in \u001b[0;36m__call__\u001b[1;34m(self, *args, **kwds)\u001b[0m\n\u001b[0;32m   1151\u001b[0m             \u001b[1;34m'funcargs'\u001b[0m\u001b[1;33m:\u001b[0m \u001b[0mc_args\u001b[0m\u001b[1;33m,\u001b[0m\u001b[1;33m\u001b[0m\u001b[0m\n\u001b[0;32m   1152\u001b[0m         }\n\u001b[1;32m-> 1153\u001b[1;33m         \u001b[1;32mreturn\u001b[0m \u001b[0mself\u001b[0m\u001b[1;33m.\u001b[0m\u001b[0msig\u001b[0m\u001b[1;33m.\u001b[0m\u001b[0mextract_outputs\u001b[0m\u001b[1;33m(\u001b[0m\u001b[0mc_args\u001b[0m\u001b[1;33m,\u001b[0m \u001b[0mretval\u001b[0m\u001b[1;33m,\u001b[0m \u001b[0mret_handler_args\u001b[0m\u001b[1;33m)\u001b[0m\u001b[1;33m\u001b[0m\u001b[0m\n\u001b[0m\u001b[0;32m   1154\u001b[0m \u001b[1;33m\u001b[0m\u001b[0m\n\u001b[0;32m   1155\u001b[0m \u001b[1;33m\u001b[0m\u001b[0m\n",
      "\u001b[1;32mc:\\users\\juanr\\anaconda3\\envs\\stage\\lib\\site-packages\\nicelib\\nicelib.py\u001b[0m in \u001b[0;36mextract_outputs\u001b[1;34m(self, c_args, retval, ret_handler_kwargs)\u001b[0m\n\u001b[0;32m    212\u001b[0m \u001b[1;33m\u001b[0m\u001b[0m\n\u001b[0;32m    213\u001b[0m         \u001b[1;32mif\u001b[0m \u001b[0mself\u001b[0m\u001b[1;33m.\u001b[0m\u001b[0mret_handler\u001b[0m\u001b[1;33m:\u001b[0m\u001b[1;33m\u001b[0m\u001b[0m\n\u001b[1;32m--> 214\u001b[1;33m             \u001b[0mretval\u001b[0m \u001b[1;33m=\u001b[0m \u001b[0mself\u001b[0m\u001b[1;33m.\u001b[0m\u001b[0mret_handler\u001b[0m\u001b[1;33m.\u001b[0m\u001b[0mhandle\u001b[0m\u001b[1;33m(\u001b[0m\u001b[0mretval\u001b[0m\u001b[1;33m,\u001b[0m \u001b[0mret_handler_kwargs\u001b[0m\u001b[1;33m)\u001b[0m\u001b[1;33m\u001b[0m\u001b[0m\n\u001b[0m\u001b[0;32m    215\u001b[0m \u001b[1;33m\u001b[0m\u001b[0m\n\u001b[0;32m    216\u001b[0m         \u001b[1;32mif\u001b[0m \u001b[0mretval\u001b[0m \u001b[1;32mis\u001b[0m \u001b[1;32mnot\u001b[0m \u001b[1;32mNone\u001b[0m\u001b[1;33m:\u001b[0m\u001b[1;33m\u001b[0m\u001b[0m\n",
      "\u001b[1;32mc:\\users\\juanr\\anaconda3\\envs\\stage\\lib\\site-packages\\nicelib\\nicelib.py\u001b[0m in \u001b[0;36mhandle\u001b[1;34m(self, retval, available_kwargs)\u001b[0m\n\u001b[0;32m    535\u001b[0m             raise KeyError(\"Unknown arg '{}' in arglist of ret-handling function \"\n\u001b[0;32m    536\u001b[0m                            \"'{}'\".format(e.args[0], self.__name__))\n\u001b[1;32m--> 537\u001b[1;33m         \u001b[1;32mreturn\u001b[0m \u001b[0mself\u001b[0m\u001b[1;33m.\u001b[0m\u001b[0m__func__\u001b[0m\u001b[1;33m(\u001b[0m\u001b[0mretval\u001b[0m\u001b[1;33m,\u001b[0m \u001b[1;33m**\u001b[0m\u001b[0mkwargs\u001b[0m\u001b[1;33m)\u001b[0m\u001b[1;33m\u001b[0m\u001b[0m\n\u001b[0m\u001b[0;32m    538\u001b[0m \u001b[1;33m\u001b[0m\u001b[0m\n\u001b[0;32m    539\u001b[0m \u001b[1;33m\u001b[0m\u001b[0m\n",
      "\u001b[1;32mc:\\users\\juanr\\anaconda3\\envs\\stage\\lib\\site-packages\\instrumental_lib-0.6.dev0-py3.6.egg\\instrumental\\drivers\\spectrometers\\thorlabs_ccs.py\u001b[0m in \u001b[0;36mccs_errcheck\u001b[1;34m(error_code, niceobj)\u001b[0m\n\u001b[0;32m     62\u001b[0m             \u001b[1;32mraise\u001b[0m \u001b[0mThorlabsCCSError\u001b[0m\u001b[1;33m(\u001b[0m\u001b[0mNiceCCSLib\u001b[0m\u001b[1;33m.\u001b[0m\u001b[0merror_message\u001b[0m\u001b[1;33m(\u001b[0m\u001b[1;36m0\u001b[0m\u001b[1;33m,\u001b[0m \u001b[0merror_code\u001b[0m\u001b[1;33m)\u001b[0m\u001b[1;33m)\u001b[0m\u001b[1;33m\u001b[0m\u001b[0m\n\u001b[0;32m     63\u001b[0m         \u001b[1;32melse\u001b[0m\u001b[1;33m:\u001b[0m\u001b[1;33m\u001b[0m\u001b[0m\n\u001b[1;32m---> 64\u001b[1;33m             \u001b[1;32mraise\u001b[0m \u001b[0mThorlabsCCSError\u001b[0m\u001b[1;33m(\u001b[0m\u001b[0mniceobj\u001b[0m\u001b[1;33m.\u001b[0m\u001b[0merror_message\u001b[0m\u001b[1;33m(\u001b[0m\u001b[0merror_code\u001b[0m\u001b[1;33m)\u001b[0m\u001b[1;33m)\u001b[0m\u001b[1;33m\u001b[0m\u001b[0m\n\u001b[0m\u001b[0;32m     65\u001b[0m \u001b[1;33m\u001b[0m\u001b[0m\n\u001b[0;32m     66\u001b[0m \u001b[1;33m\u001b[0m\u001b[0m\n",
      "\u001b[1;31mThorlabsCCSError\u001b[0m: b'The given session or object reference is invalid.'"
     ]
    },
    {
     "name": "stderr",
     "output_type": "stream",
     "text": [
      "c:\\users\\juanr\\anaconda3\\envs\\stage\\lib\\site-packages\\instrumental_lib-0.6.dev0-py3.6.egg\\instrumental\\drivers\\spectrometers\\thorlabs_ccs.py:331: Warning: Data was not successfully acquired: Retrying now\n",
      "  warn(Warning(\"Data was not successfully acquired: Retrying now\"))\n",
      "Exception in thread Thread-10:\n",
      "Traceback (most recent call last):\n",
      "  File \"c:\\users\\juanr\\anaconda3\\envs\\stage\\lib\\threading.py\", line 916, in _bootstrap_inner\n",
      "    self.run()\n",
      "  File \"c:\\users\\juanr\\anaconda3\\envs\\stage\\lib\\threading.py\", line 864, in run\n",
      "    self._target(*self._args, **self._kwargs)\n",
      "  File \"C:\\Users\\juanr\\Documents\\XZStage\\open_frame_XZStage\\XZStageAndSpec.py\", line 45, in scan_meander\n",
      "    self.intensity, self.wavelength = self.ccs.take_data(integration_time='20 ms', num_avg=num_avg, use_background=False)\n",
      "  File \"c:\\users\\juanr\\anaconda3\\envs\\stage\\lib\\site-packages\\instrumental_lib-0.6.dev0-py3.6.egg\\instrumental\\drivers\\spectrometers\\thorlabs_ccs.py\", line 365, in take_data\n",
      "    self.stop_and_clear(max_attempts)\n",
      "  File \"c:\\users\\juanr\\anaconda3\\envs\\stage\\lib\\site-packages\\instrumental_lib-0.6.dev0-py3.6.egg\\instrumental\\drivers\\spectrometers\\thorlabs_ccs.py\", line 333, in stop_and_clear\n",
      "    self.stop_scan()\n",
      "  File \"c:\\users\\juanr\\anaconda3\\envs\\stage\\lib\\site-packages\\instrumental_lib-0.6.dev0-py3.6.egg\\instrumental\\drivers\\spectrometers\\thorlabs_ccs.py\", line 238, in stop_scan\n",
      "    integration_time = self.get_integration_time()\n",
      "  File \"c:\\users\\juanr\\anaconda3\\envs\\stage\\lib\\site-packages\\instrumental_lib-0.6.dev0-py3.6.egg\\instrumental\\drivers\\spectrometers\\thorlabs_ccs.py\", line 194, in get_integration_time\n",
      "    int_time = self._NiceCCS.getIntegrationTime()\n",
      "  File \"c:\\users\\juanr\\anaconda3\\envs\\stage\\lib\\site-packages\\nicelib\\nicelib.py\", line 693, in __call__\n",
      "    return self._libfunc(*(self._niceobj._handles + args), niceobj=self._niceobj)\n",
      "  File \"c:\\users\\juanr\\anaconda3\\envs\\stage\\lib\\site-packages\\nicelib\\nicelib.py\", line 1153, in __call__\n",
      "    return self.sig.extract_outputs(c_args, retval, ret_handler_args)\n",
      "  File \"c:\\users\\juanr\\anaconda3\\envs\\stage\\lib\\site-packages\\nicelib\\nicelib.py\", line 214, in extract_outputs\n",
      "    retval = self.ret_handler.handle(retval, ret_handler_kwargs)\n",
      "  File \"c:\\users\\juanr\\anaconda3\\envs\\stage\\lib\\site-packages\\nicelib\\nicelib.py\", line 537, in handle\n",
      "    return self.__func__(retval, **kwargs)\n",
      "  File \"c:\\users\\juanr\\anaconda3\\envs\\stage\\lib\\site-packages\\instrumental_lib-0.6.dev0-py3.6.egg\\instrumental\\drivers\\spectrometers\\thorlabs_ccs.py\", line 64, in ccs_errcheck\n",
      "    raise ThorlabsCCSError(niceobj.error_message(error_code))\n",
      "instrumental.drivers.spectrometers.thorlabs_ccs.ThorlabsCCSError: b'The given session or object reference is invalid.'\n",
      "\n"
     ]
    }
   ],
   "source": [
    "num_avg=5\n",
    "#integ_time = Q_('20 ms')\n",
    "dx = 50.0 #en micrones\n",
    "dz = 50.0\n",
    "x_array_scan = np.arange(0.0,dx*(5+1),dx)\n",
    "z_array_scan = np.arange(0.0,dz*(5+1),dz)\n",
    "BE_thread = threading.Thread(target=syst.scan_meander, args=(x_array_scan,z_array_scan,num_avg))\n",
    "BE_thread.start()\n",
    "storage_thread = threading.Thread(target = syst.storage_thread, args=(BE_thread,))\n",
    "storage_thread.start()\n",
    "BE_total_time = time.time() - initial_time\n",
    "log.info('MEASUREMENT Thread done, it took: {}.'.format(BE_total_time))\n",
    "storage_total_time = time.time() - initial_time\n",
    "log.info('STORAGE Thread done, it took: {}.'.format(storage_total_time))\n",
    "syst.disconnect()\n",
    "elapsed_time = time.time() - initial_time\n",
    "log.info('TOTAL TIME: {}'.format(elapsed_time))"
   ]
  },
  {
   "cell_type": "code",
   "execution_count": null,
   "metadata": {},
   "outputs": [],
   "source": []
  }
 ],
 "metadata": {
  "kernelspec": {
   "display_name": "Python 3",
   "language": "python",
   "name": "python3"
  },
  "language_info": {
   "codemirror_mode": {
    "name": "ipython",
    "version": 3
   },
   "file_extension": ".py",
   "mimetype": "text/x-python",
   "name": "python",
   "nbconvert_exporter": "python",
   "pygments_lexer": "ipython3",
   "version": "3.6.3"
  }
 },
 "nbformat": 4,
 "nbformat_minor": 2
}
